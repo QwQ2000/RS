{
 "cells": [
  {
   "cell_type": "code",
   "execution_count": 6,
   "metadata": {
    "scrolled": true
   },
   "outputs": [
    {
     "name": "stdout",
     "output_type": "stream",
     "text": [
      "Empty DataFrame\n",
      "Columns: [uid, iid, score, review, date]\n",
      "Index: [] Empty DataFrame\n",
      "Columns: [uid, iid, score, review, date]\n",
      "Index: [] Empty DataFrame\n",
      "Columns: [uid, iid, score, review, date]\n",
      "Index: []\n"
     ]
    }
   ],
   "source": [
    "import pandas\n",
    "import numpy as np\n",
    "\n",
    "tr = pandas.read_csv('train.csv')\n",
    "te = pandas.read_csv('test.csv')\n",
    "prd = pandas.read_csv('pred.csv')\n",
    "get_dirty = lambda df:df[(df.uid == None) | (df.iid == None) | (df.score == None) | (df.score > 5.0) | (df.score < 1.0)]\n",
    "print(get_dirty(tr),get_dirty(te),get_dirty(prd))\n",
    "#输出发现没有脏数据\n",
    "cut = lambda df:df[['uid','iid','score']].drop_duplicates().dropna()\n",
    "#丢弃重复和nan的数值，只保留前三列\n",
    "tr,te = cut(tr),cut(te)"
   ]
  },
  {
   "cell_type": "code",
   "execution_count": 106,
   "metadata": {},
   "outputs": [],
   "source": [
    "from math import sqrt\n",
    "import matplotlib.pyplot as plt\n",
    "from collections import defaultdict\n",
    "\n",
    "class LFM:\n",
    "    def __init__(self,df,k=5,norm = 0.01): #norm为正则化项中的lambda\n",
    "        self.r = np.mat(np.zeros((int(df[['uid']].max())+1,int(df[['iid']].max())+1))) #user-item评分矩阵\n",
    "        self.i2u,self.u2i = defaultdict(set),defaultdict(set) #user-item倒排表与item-user倒排表\n",
    "        for idx,row in tr.iterrows():\n",
    "            uid,iid,score = int(row['uid']),int(row['iid']),row['score']\n",
    "            self.r[uid,iid] = score\n",
    "            self.u2i[uid].add(iid)\n",
    "            self.i2u[iid].add(uid)\n",
    "        self.k,self.norm = k,norm\n",
    "        self.u = np.mat(np.random.uniform(sqrt(1/k),sqrt(5/k),(self.r.shape[0],k))) #预测评分矩阵=u*i\n",
    "        self.i = np.mat(np.random.uniform(sqrt(1/k),sqrt(5/k),(self.r.shape[1],k)))\n",
    "\n",
    "    def loss(self): #损失函数\n",
    "        ret = self.norm * (np.sum(np.square(self.u)) + np.sum(np.square(self.i)))\n",
    "        pred_r = self.u * self.i.T\n",
    "        for i in range(self.r.shape[0]):\n",
    "            for j in range(self.r.shape[1]):\n",
    "                if self.r[i,j] != 0:\n",
    "                    ret += (self.r[i,j] - pred_r[i,j]) ** 2\n",
    "        return ret\n",
    "    \n",
    "    def grad_fit(self,lr = 0.01,maxd = 15,th = 100): #梯度下降，lr为学习率，maxd为最大迭代深度，th为阈值\n",
    "        d = 0\n",
    "        x = []\n",
    "        loss_val = []\n",
    "        train_score = []\n",
    "        val_score = []\n",
    "        while d < maxd and self.loss() > th:\n",
    "            for uid in range(1,self.r.shape[0]):\n",
    "                grad = 2 * self.norm * self.u[uid]\n",
    "                for iid in self.u2i[uid]:\n",
    "                    grad = grad - 2 * (self.r[uid,iid] - self.u[uid] * self.i[iid].T) * self.i[iid] \n",
    "                self.u[uid] = self.u[uid] - lr * grad\n",
    "            for iid in range(1,self.r.shape[1]):\n",
    "                grad = 2 * self.norm * self.i[iid]\n",
    "                for uid in self.i2u[iid]:\n",
    "                    grad = grad - 2 * (self.r[uid,iid] - self.u[uid] * self.i[iid].T) * self.u[uid] \n",
    "                self.i[iid] = self.i[iid] - lr * grad\n",
    "            x.append(d)\n",
    "            loss_val.append(self.loss())\n",
    "            train_score.append(self.rmse_score(tr))\n",
    "            val_score.append(self.rmse_score(te))\n",
    "            d += 1\n",
    "        return x,loss_val,train_score,val_score\n",
    "    \n",
    "    def als_fit(self,maxd = 25,th = 100): #交替最小二乘，maxd为最大迭代深度，th为阈值\n",
    "        d = 0\n",
    "        x = []\n",
    "        loss_val = []\n",
    "        train_score = []\n",
    "        val_score = []\n",
    "        while d < maxd and self.loss() > th:\n",
    "            for uid in range(1,self.r.shape[0]):\n",
    "                left = np.mat(np.zeros((1,self.k)))\n",
    "                right = np.mat(np.zeros((self.k,self.k)))\n",
    "                for iid in self.u2i[uid]:\n",
    "                    right += self.i[iid].T * self.i[iid]\n",
    "                    left += self.r[uid,iid] * self.i[iid]\n",
    "                right += self.norm * np.identity(self.k)\n",
    "                if abs(np.linalg.det(right)) < 1e-6:\n",
    "                    self.u[uid] = left * np.linalg.pinv(right + self.norm * np.identity(self.k)) \n",
    "                else:\n",
    "                    self.u[uid] = left * np.linalg.inv(right + self.norm * np.identity(self.k))  \n",
    "                #考虑到可能出现奇异矩阵，采用moore-penrose伪逆\n",
    "            for iid in range(1,self.r.shape[1]):\n",
    "                left = np.mat(np.zeros((1,self.k)))\n",
    "                right = np.mat(np.zeros((self.k,self.k)))\n",
    "                for uid in self.i2u[iid]:\n",
    "                    right += self.u[uid].T * self.u[uid]\n",
    "                    left += self.r[uid,iid] * self.u[uid]\n",
    "                right += self.norm * np.identity(self.k)\n",
    "                if abs(np.linalg.det(right)) < 1e-6:\n",
    "                    self.i[iid] = left * np.linalg.pinv(right + self.norm * np.identity(self.k)) \n",
    "                else:\n",
    "                    self.i[iid] = left * np.linalg.inv(right + self.norm * np.identity(self.k))  \n",
    "                #考虑到可能出现奇异矩阵，采用moore-penrose伪逆\n",
    "            x.append(d)\n",
    "            loss_val.append(self.loss())\n",
    "            train_score.append(self.rmse_score(tr))\n",
    "            val_score.append(self.rmse_score(te))\n",
    "            d += 1\n",
    "        return x,loss_val,train_score,val_score\n",
    "    \n",
    "    def rmse_score(self,df):\n",
    "        r = 0\n",
    "        n = 0\n",
    "        pred_r = self.u * self.i.T\n",
    "        for idx,row in df.iterrows():\n",
    "            uid,iid,score = int(row['uid']),int(row['iid']),row['score']\n",
    "            if uid < pred_r.shape[0] and iid < pred_r.shape[1]:\n",
    "                r += (pred_r[uid,iid] - score) ** 2\n",
    "                n += 1\n",
    "        return sqrt(r/n)\n",
    "    \n",
    "    def pred(self,df):\n",
    "        ans = []\n",
    "        pred_r = self.u * self.i.T\n",
    "        for idx,row in prd.iterrows():\n",
    "            uid,iid = int(row['uid']),int(row['iid'])\n",
    "            if uid < pred_r.shape[0] and iid < pred_r.shape[1]:\n",
    "                ans.append(pred_r[uid,iid])\n",
    "            else:\n",
    "                ans.append(3)\n",
    "        return ans"
   ]
  },
  {
   "cell_type": "code",
   "execution_count": 107,
   "metadata": {},
   "outputs": [],
   "source": [
    "model = LFM(tr)\n",
    "x,loss_val,train_score,val_score = model.grad_fit()"
   ]
  },
  {
   "cell_type": "code",
   "execution_count": 108,
   "metadata": {},
   "outputs": [
    {
     "data": {
      "text/plain": [
       "[<matplotlib.lines.Line2D at 0x20ecba76208>]"
      ]
     },
     "execution_count": 108,
     "metadata": {},
     "output_type": "execute_result"
    },
    {
     "data": {
      "image/png": "[encoded data removed]",
      "text/plain": [
       "<Figure size 432x288 with 1 Axes>"
      ]
     },
     "metadata": {
      "needs_background": "light"
     },
     "output_type": "display_data"
    }
   ],
   "source": [
    "import matplotlib.pyplot as plt\n",
    "plt.plot(x,loss_val)"
   ]
  },
  {
   "cell_type": "code",
   "execution_count": 109,
   "metadata": {},
   "outputs": [
    {
     "data": {
      "text/plain": [
       "[<matplotlib.lines.Line2D at 0x20ecb90aa90>]"
      ]
     },
     "execution_count": 109,
     "metadata": {},
     "output_type": "execute_result"
    },
    {
     "data": {
      "image/png": "[encoded data removed]",
      "text/plain": [
       "<Figure size 432x288 with 1 Axes>"
      ]
     },
     "metadata": {
      "needs_background": "light"
     },
     "output_type": "display_data"
    }
   ],
   "source": [
    "plt.plot(x,train_score)"
   ]
  },
  {
   "cell_type": "code",
   "execution_count": 110,
   "metadata": {
    "scrolled": true
   },
   "outputs": [
    {
     "data": {
      "text/plain": [
       "[<matplotlib.lines.Line2D at 0x20ecba87b38>]"
      ]
     },
     "execution_count": 110,
     "metadata": {},
     "output_type": "execute_result"
    },
    {
     "data": {
      "image/png": "[encoded data removed]",
      "text/plain": [
       "<Figure size 432x288 with 1 Axes>"
      ]
     },
     "metadata": {
      "needs_background": "light"
     },
     "output_type": "display_data"
    }
   ],
   "source": [
    "plt.plot(x,val_score)"
   ]
  },
  {
   "cell_type": "code",
   "execution_count": 111,
   "metadata": {
    "scrolled": true
   },
   "outputs": [
    {
     "data": {
      "text/plain": [
       "1.1847390114315492"
      ]
     },
     "execution_count": 111,
     "metadata": {},
     "output_type": "execute_result"
    }
   ],
   "source": [
    "model.rmse_score(te)"
   ]
  },
  {
   "cell_type": "code",
   "execution_count": 112,
   "metadata": {},
   "outputs": [],
   "source": [
    "ans = model.pred(prd)\n",
    "prd['score'] = ans\n",
    "prd.to_csv('my_answer3.csv')"
   ]
  },
  {
   "cell_type": "code",
   "execution_count": null,
   "metadata": {},
   "outputs": [],
   "source": []
  }
 ],
 "metadata": {
  "kernelspec": {
   "display_name": "Python 3",
   "language": "python",
   "name": "python3"
  },
  "language_info": {
   "codemirror_mode": {
    "name": "ipython",
    "version": 3
   },
   "file_extension": ".py",
   "mimetype": "text/x-python",
   "name": "python",
   "nbconvert_exporter": "python",
   "pygments_lexer": "ipython3",
   "version": "3.7.1"
  }
 },
 "nbformat": 4,
 "nbformat_minor": 2
}
