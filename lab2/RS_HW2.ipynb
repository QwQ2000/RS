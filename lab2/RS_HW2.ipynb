{
 "cells": [
  {
   "cell_type": "code",
   "execution_count": 3,
   "metadata": {
    "scrolled": true
   },
   "outputs": [
    {
     "name": "stdout",
     "output_type": "stream",
     "text": [
      "Empty DataFrame\n",
      "Columns: [uid, iid, score, review, date]\n",
      "Index: [] Empty DataFrame\n",
      "Columns: [uid, iid, score, review, date]\n",
      "Index: [] Empty DataFrame\n",
      "Columns: [uid, iid, score, review, date]\n",
      "Index: []\n",
      "uid    1925\n",
      "dtype: int64\n",
      "iid    789\n",
      "dtype: int64\n"
     ]
    }
   ],
   "source": [
    "import pandas\n",
    "\n",
    "tr = pandas.read_csv('train.csv')\n",
    "te = pandas.read_csv('test.csv')\n",
    "prd = pandas.read_csv('pred.csv')\n",
    "get_dirty = lambda df:df[(df.uid == None) | (df.iid == None) | (df.score == None) | (df.score > 5.0) | (df.score < 1.0)]\n",
    "print(get_dirty(tr),get_dirty(te),get_dirty(prd))\n",
    "#输出发现没有脏数据\n",
    "cut = lambda df:df[['uid','iid','score','review']].drop_duplicates().dropna()\n",
    "#丢弃重复和nan的数值，只保留前四列\n",
    "tr =cut(tr)\n",
    "te = cut(te)\n",
    "#输出uid和iid的最大值，用于后续代码使用\n",
    "print(tr[['uid']].max())\n",
    "print(tr[['iid']].max())"
   ]
  },
  {
   "cell_type": "code",
   "execution_count": 4,
   "metadata": {},
   "outputs": [],
   "source": [
    "import nltk\n",
    "from nltk.corpus import stopwords\n",
    "from nltk.tokenize import WordPunctTokenizer\n",
    "from nltk.stem import WordNetLemmatizer\n",
    "\n",
    "word2vec_sentences = []\n",
    "def review_preprocess(data):\n",
    "    l = []\n",
    "    tk = WordPunctTokenizer()\n",
    "    lm = WordNetLemmatizer()\n",
    "    punct = ['.',',','?','!','\\\"']\n",
    "    for idx,row in data.iterrows():\n",
    "        words = [w for w in tk.tokenize(row['review']) if w not in stopwords.words('english') and w not in punct]\n",
    "        s = ''\n",
    "        for w in words:\n",
    "            w = lm.lemmatize(w, pos='n')\n",
    "            w = lm.lemmatize(w, pos='v')\n",
    "            s += w.lower() + ' '\n",
    "        l.append(s)\n",
    "        word2vec_sentences.append(s)\n",
    "    data['review']=l\n",
    "\n",
    "review_preprocess(tr)\n",
    "review_preprocess(te)\n",
    "review_preprocess(prd)\n",
    "tr.to_csv('train_processed.csv')\n",
    "te.to_csv('test_processed.csv')\n",
    "prd.to_csv('pred_processed.csv')"
   ]
  },
  {
   "cell_type": "code",
   "execution_count": 5,
   "metadata": {
    "scrolled": true
   },
   "outputs": [],
   "source": [
    "from gensim.models import Word2Vec\n",
    "\n",
    "w2v_len = 70\n",
    "w2v = Word2Vec(word2vec_sentences, sg=1, size=w2v_len,  window=5,  min_count=2)\n",
    "w2v.save('w2v.model')"
   ]
  },
  {
   "cell_type": "code",
   "execution_count": 6,
   "metadata": {
    "scrolled": false
   },
   "outputs": [
    {
     "data": {
      "text/plain": [
       "(array([2977.,  863.,  317.,  104.,   36.,   19.,    7.,    8.,    5.,\n",
       "           3.]),\n",
       " array([  6. ,  67.1, 128.2, 189.3, 250.4, 311.5, 372.6, 433.7, 494.8,\n",
       "        555.9, 617. ]),\n",
       " <a list of 10 Patch objects>)"
      ]
     },
     "execution_count": 6,
     "metadata": {},
     "output_type": "execute_result"
    }
   ],
   "source": [
    "import matplotlib.pyplot as plt\n",
    "review_lengths = []\n",
    "for s in word2vec_sentences:\n",
    "    review_lengths.append(len(s.split(' ')))\n",
    "plt.hist(review_lengths)"
   ]
  },
  {
   "cell_type": "code",
   "execution_count": 7,
   "metadata": {},
   "outputs": [
    {
     "data": {
      "text/plain": [
       "(array([116.,   0.,  88.,   0.,   0., 140.,   0., 248.,   0., 521.]),\n",
       " array([1. , 1.4, 1.8, 2.2, 2.6, 3. , 3.4, 3.8, 4.2, 4.6, 5. ]),\n",
       " <a list of 10 Patch objects>)"
      ]
     },
     "execution_count": 7,
     "metadata": {},
     "output_type": "execute_result"
    },
    {
     "data": {
      "image/png": "[encoded data removed]",
      "text/plain": [
       "<Figure size 432x288 with 1 Axes>"
      ]
     },
     "metadata": {
      "needs_background": "light"
     },
     "output_type": "display_data"
    }
   ],
   "source": [
    "labels = []\n",
    "for idx,row in te.iterrows():\n",
    "    labels.append(row['score'])\n",
    "plt.hist(labels)"
   ]
  },
  {
   "cell_type": "code",
   "execution_count": 25,
   "metadata": {
    "scrolled": true
   },
   "outputs": [
    {
     "name": "stderr",
     "output_type": "stream",
     "text": [
      "D:\\Anaconda3\\lib\\site-packages\\ipykernel_launcher.py:16: DeprecationWarning: Call to deprecated `__contains__` (Method will be removed in 4.0.0, use self.wv.__contains__() instead).\n",
      "  app.launch_new_instance()\n",
      "D:\\Anaconda3\\lib\\site-packages\\ipykernel_launcher.py:17: DeprecationWarning: Call to deprecated `__getitem__` (Method will be removed in 4.0.0, use self.wv.__getitem__() instead).\n"
     ]
    }
   ],
   "source": [
    "import numpy as np\n",
    "sent_len = 200\n",
    "def transform(data):\n",
    "    train_x,train_y = [],[]\n",
    "    for idx,row in data.iterrows():\n",
    "        y0 = [0,0,0,0,0]\n",
    "        y0[int(row['score']-1)] = 1\n",
    "        y0 = np.array(y0)\n",
    "        train_y.append(y0)\n",
    "        wvecs = []\n",
    "        words = row['review'].split(' ')\n",
    "        empty_vec = np.array([0 for i in range(w2v_len)])\n",
    "        if (len(words) > sent_len):\n",
    "            words = words[:sent_len]\n",
    "        for w in words:\n",
    "            if w in w2v:\n",
    "                wvecs.append(w2v[w])\n",
    "            else:\n",
    "                wvecs.append(empty_vec)\n",
    "        for i in range(sent_len - len(wvecs)):\n",
    "            wvecs.append(empty_vec)\n",
    "        wvecs = np.array(wvecs)\n",
    "        train_x.append(wvecs)\n",
    "    train_x = np.array(train_x)\n",
    "    train_y = np.array(train_y)\n",
    "    return train_x,train_y\n",
    "train_x,train_y = transform(tr)\n",
    "test_x,test_y = transform(te)"
   ]
  },
  {
   "cell_type": "code",
   "execution_count": 129,
   "metadata": {
    "scrolled": true
   },
   "outputs": [
    {
     "name": "stdout",
     "output_type": "stream",
     "text": [
      "Epoch 1/30\n",
      "1953/1953 [==============================] - 9s 5ms/step - loss: 1.8459 - acc: 0.3917\n",
      "Epoch 2/30\n",
      "1953/1953 [==============================] - 7s 4ms/step - loss: 1.5585 - acc: 0.4327A: 0s - loss: 1.5566 - acc: 0.4\n",
      "Epoch 3/30\n",
      "1953/1953 [==============================] - 7s 4ms/step - loss: 1.3243 - acc: 0.4967\n",
      "Epoch 4/30\n",
      "1953/1953 [==============================] - 7s 4ms/step - loss: 1.1493 - acc: 0.5648\n",
      "Epoch 5/30\n",
      "1953/1953 [==============================] - 8s 4ms/step - loss: 1.0020 - acc: 0.6144\n",
      "Epoch 6/30\n",
      "1953/1953 [==============================] - 8s 4ms/step - loss: 0.8536 - acc: 0.6841A: 6s - loss: 0.7859 - ac - ETA: 6 - ETA: 4s -\n",
      "Epoch 7/30\n",
      "1953/1953 [==============================] - 8s 4ms/step - loss: 0.7536 - acc: 0.7296\n",
      "Epoch 8/30\n",
      "1953/1953 [==============================] - 8s 4ms/step - loss: 0.6866 - acc: 0.7465\n",
      "Epoch 9/30\n",
      "1953/1953 [==============================] - 8s 4ms/step - loss: 0.7023 - acc: 0.7501A: 0s - loss: 0.7032 - acc: 0\n",
      "Epoch 10/30\n",
      "1953/1953 [==============================] - 8s 4ms/step - loss: 0.7013 - acc: 0.7414\n",
      "Epoch 11/30\n",
      "1953/1953 [==============================] - 8s 4ms/step - loss: 0.6387 - acc: 0.7568\n",
      "Epoch 12/30\n",
      "1953/1953 [==============================] - 9s 5ms/step - loss: 0.5865 - acc: 0.7829\n",
      "Epoch 13/30\n",
      "1953/1953 [==============================] - 8s 4ms/step - loss: 0.5245 - acc: 0.8105A: 2\n",
      "Epoch 14/30\n",
      "1953/1953 [==============================] - 8s 4ms/step - loss: 0.4739 - acc: 0.8326\n",
      "Epoch 15/30\n",
      "1953/1953 [==============================] - 9s 5ms/step - loss: 0.4472 - acc: 0.8413\n",
      "Epoch 16/30\n",
      "1953/1953 [==============================] - 8s 4ms/step - loss: 0.4334 - acc: 0.8500\n",
      "Epoch 17/30\n",
      "1953/1953 [==============================] - 8s 4ms/step - loss: 0.4338 - acc: 0.8428\n",
      "Epoch 18/30\n",
      "1953/1953 [==============================] - 7s 4ms/step - loss: 0.4191 - acc: 0.8495\n",
      "Epoch 19/30\n",
      "1953/1953 [==============================] - 7s 4ms/step - loss: 0.4989 - acc: 0.8218\n",
      "Epoch 20/30\n",
      "1953/1953 [==============================] - 8s 4ms/step - loss: 0.4758 - acc: 0.8218\n",
      "Epoch 21/30\n",
      "1953/1953 [==============================] - 8s 4ms/step - loss: 0.4497 - acc: 0.8449\n",
      "Epoch 22/30\n",
      "1953/1953 [==============================] - 7s 4ms/step - loss: 0.4300 - acc: 0.8505\n",
      "Epoch 23/30\n",
      "1953/1953 [==============================] - 7s 4ms/step - loss: 0.4515 - acc: 0.8300\n",
      "Epoch 24/30\n",
      "1953/1953 [==============================] - 7s 4ms/step - loss: 0.4132 - acc: 0.8490\n",
      "Epoch 25/30\n",
      "1953/1953 [==============================] - 7s 4ms/step - loss: 0.3936 - acc: 0.8546\n",
      "Epoch 26/30\n",
      "1953/1953 [==============================] - 7s 4ms/step - loss: 0.3548 - acc: 0.8740\n",
      "Epoch 27/30\n",
      "1953/1953 [==============================] - 7s 4ms/step - loss: 0.3324 - acc: 0.8781\n",
      "Epoch 28/30\n",
      "1953/1953 [==============================] - 7s 4ms/step - loss: 0.3476 - acc: 0.8766\n",
      "Epoch 29/30\n",
      "1953/1953 [==============================] - 7s 4ms/step - loss: 0.3509 - acc: 0.8725\n",
      "Epoch 30/30\n",
      "1953/1953 [==============================] - 7s 4ms/step - loss: 0.3381 - acc: 0.8679\n"
     ]
    },
    {
     "ename": "KeyError",
     "evalue": "'val_acc'",
     "output_type": "error",
     "traceback": [
      "\u001b[1;31m---------------------------------------------------------------------------\u001b[0m",
      "\u001b[1;31mKeyError\u001b[0m                                  Traceback (most recent call last)",
      "\u001b[1;32m<ipython-input-129-4133b773d8de>\u001b[0m in \u001b[0;36m<module>\u001b[1;34m\u001b[0m\n\u001b[0;32m     24\u001b[0m \u001b[1;31m# 绘制训练 & 验证的准确率值\u001b[0m\u001b[1;33m\u001b[0m\u001b[1;33m\u001b[0m\u001b[1;33m\u001b[0m\u001b[0m\n\u001b[0;32m     25\u001b[0m \u001b[0mplt\u001b[0m\u001b[1;33m.\u001b[0m\u001b[0mplot\u001b[0m\u001b[1;33m(\u001b[0m\u001b[0mhistory\u001b[0m\u001b[1;33m.\u001b[0m\u001b[0mhistory\u001b[0m\u001b[1;33m[\u001b[0m\u001b[1;34m'acc'\u001b[0m\u001b[1;33m]\u001b[0m\u001b[1;33m)\u001b[0m\u001b[1;33m\u001b[0m\u001b[1;33m\u001b[0m\u001b[0m\n\u001b[1;32m---> 26\u001b[1;33m \u001b[0mplt\u001b[0m\u001b[1;33m.\u001b[0m\u001b[0mplot\u001b[0m\u001b[1;33m(\u001b[0m\u001b[0mhistory\u001b[0m\u001b[1;33m.\u001b[0m\u001b[0mhistory\u001b[0m\u001b[1;33m[\u001b[0m\u001b[1;34m'val_acc'\u001b[0m\u001b[1;33m]\u001b[0m\u001b[1;33m)\u001b[0m\u001b[1;33m\u001b[0m\u001b[1;33m\u001b[0m\u001b[0m\n\u001b[0m\u001b[0;32m     27\u001b[0m \u001b[0mplt\u001b[0m\u001b[1;33m.\u001b[0m\u001b[0mtitle\u001b[0m\u001b[1;33m(\u001b[0m\u001b[1;34m'Model accuracy'\u001b[0m\u001b[1;33m)\u001b[0m\u001b[1;33m\u001b[0m\u001b[1;33m\u001b[0m\u001b[0m\n\u001b[0;32m     28\u001b[0m \u001b[0mplt\u001b[0m\u001b[1;33m.\u001b[0m\u001b[0mylabel\u001b[0m\u001b[1;33m(\u001b[0m\u001b[1;34m'Accuracy'\u001b[0m\u001b[1;33m)\u001b[0m\u001b[1;33m\u001b[0m\u001b[1;33m\u001b[0m\u001b[0m\n",
      "\u001b[1;31mKeyError\u001b[0m: 'val_acc'"
     ]
    },
    {
     "data": {
      "image/png": "[encoded data removed]",
      "text/plain": [
       "<Figure size 432x288 with 1 Axes>"
      ]
     },
     "metadata": {
      "needs_background": "light"
     },
     "output_type": "display_data"
    }
   ],
   "source": [
    "import keras\n",
    "from keras.preprocessing import sequence\n",
    "from keras.models import Sequential\n",
    "from keras.layers.core import Dense, Dropout, Flatten\n",
    "from keras.layers import Conv1D,MaxPooling1D,GlobalAveragePooling1D\n",
    "from keras.layers.normalization import BatchNormalization\n",
    "\n",
    "model = Sequential()\n",
    "model.add(Conv1D(256, 5, padding='same',input_shape = (sent_len,w2v_len)))\n",
    "model.add(MaxPooling1D(3, 3, padding='same'))\n",
    "model.add(Conv1D(128, 5, padding='same'))\n",
    "model.add(MaxPooling1D(3, 3, padding='same'))\n",
    "model.add(Conv1D(64, 3, padding='same'))\n",
    "model.add(Flatten())\n",
    "model.add(Dropout(0.1))\n",
    "model.add(BatchNormalization())\n",
    "model.add(Dense(256, activation='relu'))\n",
    "model.add(Dropout(0.1))\n",
    "model.add(Dense(5, activation='softmax'))\n",
    "model.compile(loss='categorical_crossentropy',optimizer='adam',metrics=['accuracy'])\n",
    "history = model.fit(train_x,train_y,epochs=30, batch_size=16)\n",
    "import matplotlib.pyplot as plt\n",
    "\n",
    "# 绘制训练 & 验证的准确率值\n",
    "plt.plot(history.history['acc'])\n",
    "plt.plot(history.history['val_acc'])\n",
    "plt.title('Model accuracy')\n",
    "plt.ylabel('Accuracy')\n",
    "plt.xlabel('Epoch')\n",
    "plt.legend(['Train', 'Test'], loc='upper left')\n",
    "plt.show()\n",
    "\n",
    "# 绘制训练 & 验证的损失值\n",
    "plt.plot(history.history['loss'])\n",
    "plt.plot(history.history['val_loss'])\n",
    "plt.title('Model loss')\n",
    "plt.ylabel('Loss')\n",
    "plt.xlabel('Epoch')\n",
    "plt.legend(['Train', 'Test'], loc='upper left')\n",
    "plt.show()"
   ]
  },
  {
   "cell_type": "code",
   "execution_count": 130,
   "metadata": {
    "scrolled": false
   },
   "outputs": [
    {
     "name": "stdout",
     "output_type": "stream",
     "text": [
      "['loss', 'acc']\n",
      "1113/1113 [==============================] - 2s 1ms/step\n"
     ]
    },
    {
     "data": {
      "text/plain": [
       "[2.278462908659984, 0.6477987421651413]"
      ]
     },
     "execution_count": 130,
     "metadata": {},
     "output_type": "execute_result"
    }
   ],
   "source": [
    "model.save('cnn.model')\n",
    "print(model.metrics_names)\n",
    "model.evaluate(test_x,test_y,batch_size=16)"
   ]
  },
  {
   "cell_type": "code",
   "execution_count": 152,
   "metadata": {},
   "outputs": [],
   "source": [
    "import numpy as np\n",
    "import random as rd\n",
    "from collections import defaultdict\n",
    "from math import sqrt\n",
    "\n",
    "#基于用户的协同过滤，参数含义在主函数处可见解释\n",
    "def ucf_pred(m,i2u,u2i,u2m,sim_func,k,ms,uid,iid):\n",
    "    users = i2u[iid] #评价过物品的所有用户\n",
    "    if len(users) == 0:\n",
    "        return ms\n",
    "    #对于不存在的物品，直接返回所有评分的平均值。实验证明这里若考虑物品不存在用户存在的情况，返回u2m[uid]后RMSE剧增\n",
    "    mean_all = np.mean([m[suid][iid] for suid in users]) #评价过物品所有用户的均值\n",
    "    if not uid in u2i:\n",
    "        return mean_all #用户不存在\n",
    "    sf = lambda x:sim_func(m,u2i,x,uid)\n",
    "    if len(users) > k:\n",
    "        users = sorted(users,key = sf,reverse = 1)[:k] #users大于k时根据相似度重排取相似度最大的几个\n",
    "    r = u2m[uid] #“普遍”的预测函数\n",
    "    a,b = 0.0,0.0\n",
    "    for suid in users:\n",
    "        a += sf(suid) * (m[suid][iid] - u2m[suid]) \n",
    "        b += sf(suid)\n",
    "    if b == 0:\n",
    "        return mean_all\n",
    "    return r + a / b\n",
    "\n",
    "#直接返回平均值，用作参照\n",
    "def mean_pred(m,i2u,u2i,u2m,sim_func,k,ms,uid,iid):\n",
    "    users = i2u[iid]\n",
    "    if len(users) == 0:\n",
    "        return ms\n",
    "    return np.mean([m[suid][iid] for suid in users])\n",
    "\n",
    "#余弦相似度，同时考虑正例与负例，二者取平均\n",
    "def cos_sim_prototype(m,u2i,uid1,uid2,cmp):\n",
    "    assert(uid1 in u2i and uid2 in u2i)\n",
    "    is1,is2 = u2i[uid1],u2i[uid2]\n",
    "    pos1,pos2 = set([iid for iid in is1 if cmp(m[uid1][iid],3.0)]),set([iid for iid in is2  if cmp(m[uid2][iid],3.0)])\n",
    "    overlap = pos1.intersection(pos2)\n",
    "    b,c = 0.0,0.0\n",
    "    for iid in pos1:\n",
    "        b += m[uid1][iid] * m[uid1][iid]\n",
    "    for iid in pos2:\n",
    "        c += m[uid2][iid] * m[uid2][iid]\n",
    "    if b==0 or c==0:\n",
    "        return 0 #对于分母为0的情况返回0\n",
    "    return len(overlap) / (sqrt(b) * sqrt(c))\n",
    "\n",
    "def cos_sim(m,u2i,uid1,uid2):\n",
    "    return (cos_sim_prototype(m,u2i,uid1,uid2,lambda a,b:a < b) + cos_sim_prototype(m,u2i,uid1,uid2,lambda a,b:a > b)) / 2\n",
    "\n",
    "#Jaccard相似度，同时考虑正例与负例，二者取平均\n",
    "def jaccard_sim_prototype(m,u2i,uid1,uid2,cmp):\n",
    "    assert(uid1 in u2i and uid2 in u2i)\n",
    "    is1,is2 = u2i[uid1],u2i[uid2]\n",
    "    pos1,pos2 = set([iid for iid in is1 if cmp(m[uid1][iid],3.0)]),set([iid for iid in is2  if cmp(m[uid2][iid],3.0)])\n",
    "    a,b = float(len(pos1.intersection(pos2))),len(pos1.union(pos2))\n",
    "    if b == 0: #对于分母为0的情况返回0\n",
    "        return 0\n",
    "    return a / b\n",
    "\n",
    "def jaccard_sim(m,u2i,uid1,uid2):\n",
    "    return (jaccard_sim_prototype(m,u2i,uid1,uid2,lambda a,b:a < b) + jaccard_sim_prototype(m,u2i,uid1,uid2,lambda a,b:a > b)) / 2\n",
    "\n",
    "#皮尔逊相似度\n",
    "def pearson_sim(m,u2i,uid1,uid2):\n",
    "    assert(uid1 in u2i and uid2 in u2i)\n",
    "    is1,is2 = u2i[uid1],u2i[uid2]\n",
    "    mean1,mean2 = np.mean([m[uid1][iid] for iid in is1]),np.mean([m[uid2][iid] for iid in is2])\n",
    "    overlap = is1.intersection(is2)\n",
    "    a,b,c = 0.0,0.0,0.0\n",
    "    for iid in overlap:\n",
    "        a += (m[uid1][iid] - mean1) * (m[uid2][iid] - mean2)\n",
    "        b += (m[uid1][iid] - mean1) * (m[uid1][iid] - mean1)\n",
    "        c += (m[uid2][iid] - mean2) * (m[uid2][iid] - mean2)\n",
    "    if b==0 or c==0:\n",
    "        return -1 #分母为0返回-1\n",
    "    return a / (sqrt(b) * sqrt(c))\n",
    "\n",
    "#皮尔逊相似度正则化\n",
    "def pearson_norm_sim(m,u2i,uid1,uid2):\n",
    "    return (pearson_sim(m,u2i,uid1,uid2) + 1) / 2\n",
    "\n",
    "#根据测试集用RMSE进行评估\n",
    "def evaluate(te,m,i2u,u2i,u2m,sim_func,k,ms,uid,iid,pred_func):\n",
    "    rmse = 0.0\n",
    "    n = 0\n",
    "    for idx,row in te.iterrows():\n",
    "        uid,iid,score = int(row['uid']),int(row['iid']),row['score']\n",
    "        n += 1\n",
    "        p = int(pred_func(m,i2u,u2i,u2m,sim_func,k,ms,uid,iid) + 0.5) #四舍五入\n",
    "        rmse += (score - p) * (score - p)\n",
    "    rmse = sqrt(rmse/n)\n",
    "    return rmse\n",
    "\n",
    "#初始化 m存储分数矩阵，k为相似用户数，sim_func为相似度函数，i2u为物品-用户倒排表，u2i为用户-物品倒排表,pred_func表示预测函数\n",
    "m = [[np.nan for j in range(789 + 1)] for i in range (1925 + 1)]\n",
    "k = 5\n",
    "sim_func = cos_sim\n",
    "pred_func = ucf_pred\n",
    "i2u = defaultdict(set)\n",
    "u2i = defaultdict(set)\n",
    "\n",
    "#计算所有评分的平均数ms，用于预测完全未知的用户\n",
    "n = 0\n",
    "ms = 0.0\n",
    "for idx,row in tr.iterrows():\n",
    "    uid,iid,score = int(row['uid']),int(row['iid']),row['score']\n",
    "    m[uid][iid] = score\n",
    "    ms += score\n",
    "    n += 1\n",
    "    i2u[iid].add(uid)\n",
    "    u2i[uid].add(iid)\n",
    "ms /= n\n",
    "\n",
    "#u2m存储用户对应的得分平均值\n",
    "u2m = defaultdict(float)\n",
    "for uid in u2i:\n",
    "    u2m[uid]=np.mean([m[uid][iid] for iid in u2i[uid]])\n",
    "\n",
    "#网格测试，并输出平均对照\n",
    "'''\n",
    "mx = 0\n",
    "v = 999\n",
    "for i in range(1,21):\n",
    "    if evaluate(te,m,i2u,u2i,u2m,sim_func,i,ms,uid,iid,pred_func)<v:\n",
    "        mx,v=i,evaluate(te,m,i2u,u2i,u2m,sim_func,i,ms,uid,iid,pred_func)\n",
    "print(mx,v)\n",
    "print(evaluate(te,m,i2u,u2i,u2m,sim_func,k,ms,uid,iid,mean_pred))\n",
    "'''\n",
    "'''\n",
    "#填写答案\n",
    "ans = []\n",
    "for idx,row in prd.iterrows():\n",
    "    uid,iid = int(row['uid']),int(row['iid'])\n",
    "    ans.append(int(ucf_pred(m,i2u,u2i,u2m,sim_func,k,ms,uid,iid) + 0.5) + 0.0) #四舍五入\n",
    "prd['score']=ans\n",
    "prd.to_csv('my_answer.csv')\n",
    "'''\n",
    "# mean_pred结果:RMSE=1.284016049251313\n",
    "# cos_sim的最佳结果:k=5 RMSE=1.1319107397367323\n",
    "# jaccard_sim的最佳结果k=1 RMSE=1.1323075533298992\n",
    "# pearson_norm_sim的最佳结果k=3 RMSE=1.2329702483933587\n",
    "# 由以上网格测试过程可得最佳算法为k=5的cos_sim\n",
    "\n",
    "linear_train_x = []\n",
    "linear_train_y = []\n",
    "i = 0\n",
    "for idx,row in tr.iterrows():\n",
    "    x = list(model.predict(np.array([train_x[i]]))[0])\n",
    "    x.append(ucf_pred(m,i2u,u2i,u2m,sim_func,k,ms,row['uid'],row['iid']))\n",
    "    linear_train_x.append(x)\n",
    "    linear_train_y.append(row['score'])\n",
    "    i += 1\n",
    "    \n",
    "linear_test_x = []\n",
    "linear_test_y = []\n",
    "i = 0\n",
    "for idx,row in te.iterrows():\n",
    "    x = list(model.predict(np.array([train_x[i]]))[0])\n",
    "    x.append(ucf_pred(m,i2u,u2i,u2m,sim_func,k,ms,row['uid'],row['iid']))\n",
    "    linear_test_x.append(x)\n",
    "    linear_test_y.append(row['score'])\n",
    "    i += 1"
   ]
  },
  {
   "cell_type": "code",
   "execution_count": 163,
   "metadata": {},
   "outputs": [
    {
     "data": {
      "text/plain": [
       "1.0836313759963383"
      ]
     },
     "execution_count": 163,
     "metadata": {},
     "output_type": "execute_result"
    }
   ],
   "source": [
    "from sklearn.linear_model import Ridge\n",
    "linear_model = Ridge(alpha=800)\n",
    "linear_model.fit(linear_train_x,linear_train_y)\n",
    "from sklearn.metrics import mean_squared_error\n",
    "test_ans = linear_model.predict(linear_test_x)\n",
    "test_ans2 = []\n",
    "for x in test_ans:\n",
    "    if (x<1.0):\n",
    "        x=1.0\n",
    "    elif (x>5.0):\n",
    "        x=5.0\n",
    "    test_ans2.append(x)\n",
    "mean_squared_error(linear_test_y,test_ans2) ** 0.5"
   ]
  },
  {
   "cell_type": "code",
   "execution_count": 170,
   "metadata": {},
   "outputs": [
    {
     "name": "stderr",
     "output_type": "stream",
     "text": [
      "D:\\Anaconda3\\lib\\site-packages\\ipykernel_launcher.py:9: DeprecationWarning: Call to deprecated `__contains__` (Method will be removed in 4.0.0, use self.wv.__contains__() instead).\n",
      "  if __name__ == '__main__':\n",
      "D:\\Anaconda3\\lib\\site-packages\\ipykernel_launcher.py:10: DeprecationWarning: Call to deprecated `__getitem__` (Method will be removed in 4.0.0, use self.wv.__getitem__() instead).\n",
      "  # Remove the CWD from sys.path while we load stuff.\n"
     ]
    }
   ],
   "source": [
    "pred_x = []\n",
    "for idx,row in prd.iterrows():\n",
    "    wvecs = []\n",
    "    words = row['review'].split(' ')\n",
    "    empty_vec = np.array([0 for i in range(w2v_len)])\n",
    "    if (len(words) > sent_len):\n",
    "        words = words[:sent_len]\n",
    "    for w in words:\n",
    "        if w in w2v:\n",
    "            wvecs.append(w2v[w])\n",
    "        else:\n",
    "            wvecs.append(empty_vec)\n",
    "    for i in range(sent_len - len(wvecs)):\n",
    "        wvecs.append(empty_vec)\n",
    "    wvecs = np.array(wvecs)\n",
    "    pred_x.append(wvecs)\n",
    "pred_x = np.array(pred_x)\n",
    "\n",
    "linear_pred_x = []\n",
    "i = 0\n",
    "for idx,row in prd.iterrows():\n",
    "    x = list(model.predict(np.array([pred_x[i]]))[0])\n",
    "    x.append(ucf_pred(m,i2u,u2i,u2m,sim_func,k,ms,row['uid'],row['iid']))\n",
    "    linear_pred_x.append(x)\n",
    "    i += 1\n",
    "linear_model.predict(linear_pred_x)\n",
    "pred_ans = linear_model.predict(linear_pred_x)\n",
    "pred_ans2 = []\n",
    "for x in pred_ans:\n",
    "    if (x<1.0):\n",
    "        x=1.0\n",
    "    elif (x>5.0):\n",
    "        x=5.0\n",
    "    pred_ans2.append(x)\n",
    "prd['score']=pred_ans2\n",
    "prd.to_csv('my_answer.csv')"
   ]
  },
  {
   "cell_type": "code",
   "execution_count": null,
   "metadata": {},
   "outputs": [],
   "source": []
  }
 ],
 "metadata": {
  "kernelspec": {
   "display_name": "Python 3",
   "language": "python",
   "name": "python3"
  },
  "language_info": {
   "codemirror_mode": {
    "name": "ipython",
    "version": 3
   },
   "file_extension": ".py",
   "mimetype": "text/x-python",
   "name": "python",
   "nbconvert_exporter": "python",
   "pygments_lexer": "ipython3",
   "version": "3.7.1"
  }
 },
 "nbformat": 4,
 "nbformat_minor": 2
}
